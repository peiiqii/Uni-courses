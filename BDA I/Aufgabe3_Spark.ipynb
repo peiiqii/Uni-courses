{
 "cells": [
  {
   "cell_type": "markdown",
   "id": "3fdc7366-3834-4322-9f4f-f4f68070798b",
   "metadata": {},
   "source": [
    "# Big Data Analytics\n",
    "Praktikum Sommersemester 2023. <small>Version 1.0</small>\n",
    "\n",
    "**Aufgabe 3: Abfragen mit Apache Spark** \n",
    "\n",
    "Machen Sie sich mit Apache Spark vertraut. Bearbeiten Sie die Aufgaben indem Sie **Spark RDD** entsprechend transformieren. \n",
    "\n",
    "## Arbeitsanweisung\n",
    "Nutzen Sie die markierten Zellen im vorliegenden Notebook `BDA1_A3_Spark.ipynb` für Ihre Lösungen und laden Sie es in Ilias hoch. In den Zellen muss ausführbarer python code vorliegen. Die Ausgabe soll unterhalb der jeweiligen Zellen produziert werden.\n",
    "Liefern Sie auch aussagekräftiges Markdown zu Ihrem Code (Vorgehen, Quellen, etc) ab.\n",
    "\n",
    "**Hinweis**: Verwenden Sie für diese Aufgaben *nicht* Spark SQL und *keine* Dataframes. \n",
    "\n",
    "----\n",
    "\n",
    "## Vorbereitung\n",
    "* Verwenden Sie immer den vorgegeben Spark Master um Inkonsistenzen der python3 Versionen zwischen Worker und Client zu verhindern.\n",
    "* Ändern Sie nicht die SparkContext Konfiguration und beenden Sie bitte den SparkContext nachdem Sie die Bearbeitung beenden, um die Resourcen wieder frei zu geben! (`stop_sc1()`)\n",
    "* Stellen Sie sicher, dass `pyspark` installiert ist (pip install)"
   ]
  },
  {
   "cell_type": "code",
   "execution_count": null,
   "id": "3ee9da9a-4bdb-4a12-a6a8-8ae19a6b9dfd",
   "metadata": {},
   "outputs": [
    {
     "name": "stdout",
     "output_type": "stream",
     "text": [
      "Collecting pyspark\n",
      "  Downloading pyspark-3.4.0.tar.gz (310.8 MB)\n",
      "\u001b[K     |████████████████████████████▌   | 277.1 MB 91.5 MB/s eta 0:00:011"
     ]
    },
    {
     "name": "stderr",
     "output_type": "stream",
     "text": [
      "IOPub data rate exceeded.\n",
      "The notebook server will temporarily stop sending output\n",
      "to the client in order to avoid crashing it.\n",
      "To change this limit, set the config variable\n",
      "`--NotebookApp.iopub_data_rate_limit`.\n",
      "\n",
      "Current values:\n",
      "NotebookApp.iopub_data_rate_limit=1000000.0 (bytes/sec)\n",
      "NotebookApp.rate_limit_window=3.0 (secs)\n",
      "\n"
     ]
    },
    {
     "name": "stdout",
     "output_type": "stream",
     "text": [
      "\u001b[K     |████████████████████████████████| 310.8 MB 22 kB/s \n",
      "\u001b[?25hCollecting py4j==0.10.9.7\n",
      "  Downloading py4j-0.10.9.7-py2.py3-none-any.whl (200 kB)\n",
      "\u001b[K     |████████████████████████████████| 200 kB 89.5 MB/s eta 0:00:01\n",
      "\u001b[?25hBuilding wheels for collected packages: pyspark\n",
      "  Building wheel for pyspark (setup.py) ... \u001b[?25l|"
     ]
    }
   ],
   "source": [
    "!pip install pyspark"
   ]
  },
  {
   "cell_type": "markdown",
   "id": "64a92662-3732-4c4f-90ad-4e8a00e6df99",
   "metadata": {},
   "source": [
    "Für diese Aufgabe steht ein HDFS mit dem Namenode `namenode` unter Port `19000` bereit. \n",
    "\n",
    "Sie finden die folgenden Dateien darin:\n",
    "\n",
    "* **`/data/bda1/co2data.tsv`**<br>Datensatz von Messungen verschiedener CO<sub>2</sub>-Sensoren\n",
    "* **`/data/bda1/co2data_pm.tsv`**<br>Datensatz von Messungen verschiedener CO<sub>2</sub>-Sensoren mit Partikelmessung, pm ist die Partikeldichte, npm die Partikelanzahl bestimmter Größen"
   ]
  },
  {
   "cell_type": "code",
   "execution_count": 2,
   "id": "ac4db35b-551e-4c73-84e3-db273149a68f",
   "metadata": {},
   "outputs": [
    {
     "name": "stdout",
     "output_type": "stream",
     "text": [
      "3.9.6 | packaged by conda-forge | (default, Jul 11 2021, 03:39:48) \n",
      "[GCC 9.3.0]\n"
     ]
    }
   ],
   "source": [
    "import pyspark\n",
    "from pprint import pprint\n",
    "import os\n",
    "import sys\n",
    "\n",
    "print(sys.version)  # python3 version\n",
    "\n",
    "os.environ['PYSPARK_PYTHON'] = '/usr/bin/python3'\n",
    "os.environ['PYSPARK_DRIVER_PYTHON'] = 'ipython3'\n",
    "os.environ['PYSPARK_DRIVER_PYTHON_OPTS'] = 'notebook'\n",
    "def stop_sc1():\n",
    "    \"\"\"stop spark context if exists\"\"\"\n",
    "    try:\n",
    "        sc1.stop()\n",
    "        print('Spark Context stopped')\n",
    "    except Exception as ex1:\n",
    "        print(f'No context stopped: {ex1}')"
   ]
  },
  {
   "cell_type": "markdown",
   "id": "68760a31-332d-4d06-b86e-40a70a9f31a2",
   "metadata": {
    "tags": []
   },
   "source": [
    "### Spark Context erzeugen\n",
    "Die Session mit dem vorgegebenen Spark Master öffnen."
   ]
  },
  {
   "cell_type": "code",
   "execution_count": 3,
   "id": "7494bc27-6e35-40be-bee9-493d94ea3e58",
   "metadata": {},
   "outputs": [
    {
     "name": "stdout",
     "output_type": "stream",
     "text": [
      "No context stopped: name 'sc1' is not defined\n"
     ]
    },
    {
     "name": "stderr",
     "output_type": "stream",
     "text": [
      "Setting default log level to \"WARN\".\n",
      "To adjust logging level use sc.setLogLevel(newLevel). For SparkR, use setLogLevel(newLevel).\n",
      "23/06/12 20:16:18 WARN NativeCodeLoader: Unable to load native-hadoop library for your platform... using builtin-java classes where applicable\n"
     ]
    }
   ],
   "source": [
    "stop_sc1()\n",
    "\n",
    "# never ever change these lines!\n",
    "config = pyspark.SparkConf().setAll([('spark.executor.memory', '1g'), ('spark.executor.cores', '1'), ('spark.cores.max', '2'), ('spark.driver.memory','1g'), (\"spark.app.name\", os.environ['JUPYTERHUB_CLIENT_ID'])])\n",
    "sc1 = pyspark.SparkContext(master='spark://jupiter.bigdata.fh-aachen.de:17077', conf=config)"
   ]
  },
  {
   "cell_type": "markdown",
   "id": "70a36bf8-ed93-471b-9126-e67b36499b61",
   "metadata": {},
   "source": [
    "### Einlesen der Daten aus HDFS und Erzeugen von RDDs"
   ]
  },
  {
   "cell_type": "code",
   "execution_count": 4,
   "id": "fc0b30cc-8e68-468f-9867-623d2325a864",
   "metadata": {},
   "outputs": [],
   "source": [
    "rdd_co2data = sc1.textFile(\"hdfs://namenode:19000/data/bda1/co2data.tsv\")\n",
    "rdd_co2data_pm = sc1.textFile(\"hdfs://namenode:19000/data/bda1/co2data_pm.tsv\")"
   ]
  },
  {
   "cell_type": "markdown",
   "id": "6c9304e7-5a61-4396-a45a-b0a0619f2f10",
   "metadata": {
    "tags": []
   },
   "source": [
    "## Aufgabe 3 a\n",
    "\n",
    "Untersuchen Sie die Sensordaten unter ``hdfs://namenode/data/bda1/*``. Beantworten Sie die folgenden Fragen, indem Sie jeweils geeignete RDD Operationen in Spark ausführen:\n",
    "\n",
    "1. Wieviele Messungen sind der Datenmenge `co2data.tsv` zu finden? Wieviele sind es in `co2data_pm.tsv` ?\n",
    "2. Wie lauten die Attributnamen der Datenmenge `co2data_pm.tsv` ? Geben Sie sie zeilenweise aus.\n",
    "3. Wieviele verschiedene Sensoren (angegeben im Feld _serial_number_) enhält die Datenmenge `co2data.tsv` ?  Beachten Sie den Hinweis unter 3a)\n",
    "4. Wieviele Datenpunkte je Sensor liegen vor in `co2data.tsv` ? Geben Sie sowohl Sensor als auch Anzahl aus und beachten Sie den Hinweis unter 3a)\n",
    "5. Was ist der höchste, und was der niedrigste Temperaturwert in der Datenmenge `co2data_pm.tsv` ? \n",
    "6. Was ist der durchschnittliche CO<sub>2</sub>-Wert je Sensor in der Datenmenge `co2data_pm.tsv` ? Runden Sie gerne auf drei Nachkommastellen und beachten Sie den Hinweis unter 3a)\n",
    "\n",
    "**Hinweis:**<br>Die Serial Number besteht aus drei Komponenten: `s_` als Präfix, die eindeutige MAC-Adresse des Sensors und einer Zahl. Die Eindeutigkeit wird nur über die MAC-Adresse bestimmt. Nutzen Sie die MAC-Adresse."
   ]
  },
  {
   "cell_type": "markdown",
   "id": "c88ad34b-a234-48a5-8e12-6099c034cce4",
   "metadata": {},
   "source": [
    "### Aufgabe 3a: 1. Anzahl der Messungen je Datenmenge\n",
    "----------------\n",
    "1. Einlesen der Daten aus HDFS und Erzeugen von RDDs\n",
    "2. die Anzahl der Messungen je Datenmenge zählen mit ``count()`` und ausgeben"
   ]
  },
  {
   "cell_type": "code",
   "execution_count": 1,
   "id": "000bc20a-de6c-4ecc-818b-b3059697f134",
   "metadata": {
    "tags": [
     "bda1_ex3_a",
     "ex3_a1"
    ]
   },
   "outputs": [
    {
     "ename": "NameError",
     "evalue": "name 'rdd_co2data' is not defined",
     "output_type": "error",
     "traceback": [
      "\u001b[0;31m---------------------------------------------------------------------------\u001b[0m",
      "\u001b[0;31mNameError\u001b[0m                                 Traceback (most recent call last)",
      "Input \u001b[0;32mIn [1]\u001b[0m, in \u001b[0;36m<cell line: 3>\u001b[0;34m()\u001b[0m\n\u001b[1;32m      1\u001b[0m \u001b[38;5;66;03m# Aufgabe 3a 1\u001b[39;00m\n\u001b[0;32m----> 3\u001b[0m \u001b[38;5;28mprint\u001b[39m(\u001b[38;5;124m\"\u001b[39m\u001b[38;5;124mAnzahl der Messungen aus co2data.tsv: \u001b[39m\u001b[38;5;124m\"\u001b[39m, \u001b[43mrdd_co2data\u001b[49m\u001b[38;5;241m.\u001b[39mcount())\n\u001b[1;32m      4\u001b[0m \u001b[38;5;28mprint\u001b[39m(\u001b[38;5;124m\"\u001b[39m\u001b[38;5;124mAnzahl der Messungen aus co2data_pm.tsv: \u001b[39m\u001b[38;5;124m\"\u001b[39m, rdd_co2data_pm\u001b[38;5;241m.\u001b[39mcount())\n",
      "\u001b[0;31mNameError\u001b[0m: name 'rdd_co2data' is not defined"
     ]
    }
   ],
   "source": [
    "# Aufgabe 3a 1\n",
    "\n",
    "print(\"Anzahl der Messungen aus co2data.tsv: \", rdd_co2data.count())\n",
    "print(\"Anzahl der Messungen aus co2data_pm.tsv: \", rdd_co2data_pm.count())"
   ]
  },
  {
   "cell_type": "markdown",
   "id": "bbd3c733-10e9-4227-bee6-4c74fe7c2dbf",
   "metadata": {},
   "source": [
    "### Aufgabe 3a: 2. Attributnamen der Datenmenge\n",
    "----------------\n",
    "1. ``.first()`` um die erste Zeile in diesem RDD zu holen\n",
    "2. Trennt die erste Zeile durch das Tabulatortrennzeichen ``.split(\"\\t\")``, um jede einzelne Spalten zu erhalten."
   ]
  },
  {
   "cell_type": "code",
   "execution_count": 6,
   "id": "a32cecc2-e1f2-49e9-abb0-a04db9ba0ee4",
   "metadata": {
    "tags": [
     "bda1_ex3_a",
     "ex3_a2"
    ]
   },
   "outputs": [
    {
     "name": "stdout",
     "output_type": "stream",
     "text": [
      "\"timestamp\"\n",
      "\"measurement_count\"\n",
      "\"version\"\n",
      "\"serial_number\"\n",
      "\"co2_ppm\"\n",
      "\"temperature_celsius\"\n",
      "\"relative_humidity_percent\"\n",
      "\"pm1\"\n",
      "\"pm2\"\n",
      "\"pm4\"\n",
      "\"pm10\"\n",
      "\"npm0\"\n",
      "\"npm1\"\n",
      "\"npm2\"\n",
      "\"npm4\"\n",
      "\"npm10\"\n",
      "\"ps\"\n"
     ]
    }
   ],
   "source": [
    "# Aufgabe 3a 2\n",
    "\n",
    "attribute_names = rdd_co2data_pm.first().split(\"\\t\")\n",
    "\n",
    "# Ausgabe der Attributnamen zeilenweise\n",
    "for attribute_name in attribute_names:\n",
    "    print(attribute_name)"
   ]
  },
  {
   "cell_type": "markdown",
   "id": "7dc6247f-811f-4ddc-87d5-9b6f6339917c",
   "metadata": {},
   "source": [
    "### Aufgabe 3a: 3. Anzahl der verschiedenen Sensoren\n",
    "----------------\n",
    "1. Das Feld für die Serial Nummer aus den RDD-Einträgen extrahieren.\n",
    "2. Die erste Zeile wird herausgefiltert und die Serial Nummer wird durch ``.split(\"_\")[1]`` gesplittert, um die Mac-Addresse des Sensors zu bekommen.\n",
    "3. Die eindeutigen Mac-Adresse der Sensoren zählen ``.countApproxDistinct()``"
   ]
  },
  {
   "cell_type": "code",
   "execution_count": 7,
   "id": "450e5ba0-82a5-4fc2-a138-26e02d7cc1c7",
   "metadata": {
    "tags": [
     "bda1_ex3_a",
     "ex3_a3"
    ]
   },
   "outputs": [
    {
     "name": "stderr",
     "output_type": "stream",
     "text": [
      "[Stage 4:============================================>              (6 + 2) / 8]\r"
     ]
    },
    {
     "name": "stdout",
     "output_type": "stream",
     "text": [
      "Anzahl der verschiedenen Sensoren: 10\n"
     ]
    },
    {
     "name": "stderr",
     "output_type": "stream",
     "text": [
      "                                                                                \r"
     ]
    }
   ],
   "source": [
    "# Aufgabe 3a 3\n",
    "\n",
    "data = rdd_co2data.map(lambda line: line.replace('\"', '').split(\"\\t\"))\n",
    "header = data.first()\n",
    "data = data.filter(lambda line: line != header).map(lambda line: line[1].split(\"_\")[1])\n",
    "\n",
    "sensors_count = data.countApproxDistinct()\n",
    "\n",
    "print(\"Anzahl der verschiedenen Sensoren:\", sensors_count)"
   ]
  },
  {
   "cell_type": "markdown",
   "id": "7bf77f6c-33aa-4a11-b641-d95b5e589043",
   "metadata": {},
   "source": [
    "### Aufgabe 3a: 4. Anzahl der Datenpunkten je Sensor\n",
    "----------------\n",
    "1. Die eindeutige Mac-Adresse der Sensoren wie ber Aufgabe 3a_3 ermitteln.\n",
    "2. Die Werte werden nach MAC-Adresse gruppiert ``.groupBy()`` und für jede Gruppe wird die Anzahl der Datenpunkte ermittelt."
   ]
  },
  {
   "cell_type": "code",
   "execution_count": 8,
   "id": "591784c3-6a1a-4d96-b5d7-44184082f8ef",
   "metadata": {
    "tags": [
     "bda1_ex3_a",
     "ex3_a4"
    ]
   },
   "outputs": [
    {
     "name": "stdout",
     "output_type": "stream",
     "text": [
      "Sensoren   Anzahl der Datenpunkten\n"
     ]
    },
    {
     "name": "stderr",
     "output_type": "stream",
     "text": [
      "[Stage 7:===================================================>       (7 + 1) / 8]\r"
     ]
    },
    {
     "name": "stdout",
     "output_type": "stream",
     "text": [
      "10521c0202ab 2064      \n",
      "d8bfc0147061 578457    \n",
      "d8bfc014724e 2103522   \n",
      "e8db84c5f33d 2270696   \n",
      "8caab57a6dd9 2781677   \n",
      "8caab57c3e19 1561046   \n",
      "10521c01cf19 385105    \n",
      "8caab57cc961 1131868   \n",
      "e8db84c5f771 1665530   \n",
      "3c6105d3abae 1533919   \n"
     ]
    },
    {
     "name": "stderr",
     "output_type": "stream",
     "text": [
      "                                                                                \r"
     ]
    }
   ],
   "source": [
    "# Aufgabe 3a 4\n",
    "\n",
    "header = rdd_co2data.first()\n",
    "data = rdd_co2data.map(lambda line: line.split(\"\\t\")).filter(lambda line: line[1] != '\"serial_number\"').groupBy(lambda line: line[1].split(\"_\")[1].strip('\"')).mapValues(lambda group: len(list(group)))\n",
    "\n",
    "print(\"{:<10} {:<10}\".format('Sensoren', 'Anzahl der Datenpunkten'))\n",
    "for sensor, count in data.collect():\n",
    "    print(\"{:<10} {:<10}\".format(sensor, count))"
   ]
  },
  {
   "cell_type": "markdown",
   "id": "963b3aba-09e4-48ba-9c84-8e3cfcea8961",
   "metadata": {},
   "source": [
    "### Aufgabe 3a: 5. Höchste und niedrigste Temperaturwerte\n",
    "----------------\n",
    "1. Das Feld für die Temperatur aus den RDD-Einträgen extrahieren.\n",
    "2. Die erste Zeile und die Werte \"null\" werden herausgefiltert, um nur die gültige Temperatur-Werte zu erhalten.\n",
    "3. Die Temperaturwerte in ``float`` konvertieren für die Berechnung.\n",
    "4. Finden den maximalen und minimalen Temperaturwert durch Vergleich"
   ]
  },
  {
   "cell_type": "code",
   "execution_count": 9,
   "id": "43760148-b3ce-42ab-9012-1a8a5c3ce962",
   "metadata": {
    "tags": [
     "bda1_ex3_a",
     "ex3_a5"
    ]
   },
   "outputs": [
    {
     "name": "stderr",
     "output_type": "stream",
     "text": [
      "[Stage 10:====================================================>   (14 + 1) / 15]\r"
     ]
    },
    {
     "name": "stdout",
     "output_type": "stream",
     "text": [
      "Maximum Temperature: 41.0\n",
      "Minimum Temperature: 6.0\n"
     ]
    },
    {
     "name": "stderr",
     "output_type": "stream",
     "text": [
      "                                                                                \r"
     ]
    }
   ],
   "source": [
    "# Aufgabe 3a 5\n",
    "\n",
    "data = rdd_co2data_pm.map(lambda line: line.replace('\"', '').split(\"\\t\"))\n",
    "\n",
    "header = data.first()\n",
    "data = data.filter(lambda line: line != header)\n",
    "\n",
    "rdd_temperature = data.map(lambda line: line[5]).filter(lambda temp: temp != \"null\")\n",
    "\n",
    "valid_temperature = rdd_temperature.filter(lambda temp: temp.replace(\".\", \"\", 1).isdigit())\n",
    "\n",
    "rdd_temperature_float = valid_temperature.map(lambda temp: float(temp))\n",
    "\n",
    "max_temperature = rdd_temperature_float.reduce(lambda a, b: a if a > b else b)\n",
    "min_temperature = rdd_temperature_float.reduce(lambda a, b: a if a < b else b)\n",
    "\n",
    "print(\"Maximum Temperature:\", max_temperature)\n",
    "print(\"Minimum Temperature:\", min_temperature)"
   ]
  },
  {
   "cell_type": "markdown",
   "id": "02e3daf6-c46b-4e51-8249-71640386e486",
   "metadata": {},
   "source": [
    "### Aufgabe 3a: 6. Durchschnittlische CO2-Wert je Sensor\n",
    "----------------\n",
    "1. Die erste Zeile und die Werte \"null\" werden herausgefiltert, um nur die gültige CO2-Werte zu erhalten.\n",
    "2. Die Werte nach MAC-Adresse gruppieren ``.groupByKey()`` und den durchschnittlichen CO2-Wert berechnen und auf 3 Dezimalstellen runden."
   ]
  },
  {
   "cell_type": "code",
   "execution_count": 10,
   "id": "1ab16b6a-822a-42df-9e73-10715d8b73f6",
   "metadata": {
    "tags": [
     "bda1_ex3_a",
     "ex3_a6"
    ]
   },
   "outputs": [
    {
     "name": "stdout",
     "output_type": "stream",
     "text": [
      "Sensoren   Durchschnittlische CO2-Wert\n"
     ]
    },
    {
     "name": "stderr",
     "output_type": "stream",
     "text": [
      "[Stage 13:=========================================>              (11 + 2) / 15]\r"
     ]
    },
    {
     "name": "stdout",
     "output_type": "stream",
     "text": [
      "e8db84c5fc6a 554.979   \n",
      "308398a2a1f6 657.518   \n",
      "8caab57c9751 519.263   \n",
      "8caab57cc813 547.52    \n",
      "8caab57d01da 574.967   \n",
      "308398a2ddcb 481.186   \n",
      "3c6105d3908f 730.933   \n",
      "8caab57cbb52 496.846   \n",
      "a848fac03782 549.538   \n",
      "ac0bfbd6547d 486.608   \n",
      "308398b5b69c 1058.714  \n",
      "308398a2fb52 541.715   \n",
      "308398a2f790 688.314   \n",
      "ac0bfbd64321 580.367   \n",
      "308398b595c0 531.905   \n",
      "e8db84c62ab4 560.562   \n",
      "3c6105d381e8 546.007   \n",
      "e8db84c5f33d 613.406   \n",
      "e8db84c5f771 960.3     \n",
      "ac0bfbd85271 573.868   \n",
      "3c6105d467fd 640.568   \n",
      "8caab57d0593 671.539   \n",
      "308398b61fd3 860.563   \n",
      "308398b651ee 676.252   \n",
      "e8db84c60450 603.941   \n",
      "4091514f0284 896.765   \n",
      "30839882dbce 596.058   \n",
      "308398a2000e 653.749   \n",
      "308398b54e4c 704.048   \n",
      "308398824a5e 532.384   \n",
      "3c6105d4188d 594.736   \n",
      "308398a26607 573.242   \n",
      "308398b552c4 556.71    \n",
      "308398b60c74 501.695   \n",
      "8caab57b0e22 767.415   \n",
      "ac0bfbd71044 524.589   \n",
      "308398a2a0e4 586.763   \n",
      "3c6105d389cc 736.777   \n",
      "10521c0202ab 521.268   \n",
      "3c6105d49d8d 513.605   \n",
      "30839882fcc8 843.63    \n",
      "ac0bfbd857fb 446.86    \n",
      "8caab57cfb10 521.988   \n",
      "40915150b550 1174.667  \n",
      "8caab57cafa8 541.866   \n",
      "a848fac03ff8 571.832   \n",
      "308398a2a8b6 899.723   \n",
      "3c6105d36eb0 722.079   \n",
      "8caab57c3e19 733.523   \n",
      "3c6105cffb3b 514.215   \n",
      "308398b6157d 930.366   \n",
      "3c6105d3abae 746.999   \n",
      "308398805c0b 551.013   \n",
      "3c6105d34ddc 562.284   \n",
      "a848fac0a9df 694.491   \n",
      "3c6105d45469 571.067   \n",
      "8caab57ccaaf 765.171   \n",
      "3c6105d414f3 565.769   \n",
      "3083988004ef 623.578   \n",
      "8caab57c89c3 766.469   \n",
      "308398b620a0 853.206   \n"
     ]
    },
    {
     "name": "stderr",
     "output_type": "stream",
     "text": [
      "                                                                                \r"
     ]
    }
   ],
   "source": [
    "# Aufgabe 3a 6\n",
    "\n",
    "header = rdd_co2data_pm.first()\n",
    "rdd_co2data_pm = rdd_co2data_pm.filter(lambda line: line != header)\n",
    "data = rdd_co2data_pm.map(lambda line: line.split(\"\\t\")).filter(lambda line: (line[4] != '\"null\"')).map(lambda line: (line[3].split(\"_\")[1], float(line[4].replace('\"', ''))))\n",
    "\n",
    "# Step 2: Group the data by MAC address and calculate the average CO2 value\n",
    "average_co2 = data.groupByKey().mapValues(lambda values: round(sum(values) / len(values),3))\n",
    "\n",
    "print(\"{:<10} {:<10}\".format('Sensoren', 'Durchschnittlische CO2-Wert'))\n",
    "for sensor, average in average_co2.collect():\n",
    "    print(\"{:<10} {:<10}\".format(sensor, average))"
   ]
  },
  {
   "cell_type": "markdown",
   "id": "7270679d-cf30-40f2-abad-e2d2c08302b0",
   "metadata": {
    "tags": []
   },
   "source": [
    "## Aufgabe 3 b\n",
    "\n",
    "Machen Sie Aussagen in Markdown zu den beiden Datenmengen, nachdem Sie sich die Information aus Spark gezogen haben.\n",
    "\n",
    "* Kommen Sensoren (MAC-Adresse in Serial Number) in beiden Datenmengen vor? Wenn ja, welche?\n",
    "* Anhand welchen Attributs können Sie auf vorhandene Werte in den Attributen `pm*` und `npm*` filtern? Geben Sie ein Beispiel.\n",
    "* Enthält eine Datenmenge \"fehlerhafte\" CO<sub>2</sub>-Messungen? Wenn ja, wieviele Messungen sind betroffen? Fehlerhaft ist ein Wert `null`\n"
   ]
  },
  {
   "cell_type": "markdown",
   "id": "d2d9a4c2-94e7-46ea-90ea-d07fbd9b2936",
   "metadata": {},
   "source": [
    "### Aufgabe 3b: 1. Kommen Sensoren in beiden Datenmengen\n",
    "----------------\n",
    "1. Zunächst werden die MAC-Adressen aus den beiden Datenmengen extrahiert.\n",
    "2. Die erste Zeile mit dem \"serial_number\" wird herausgefiltert, um nur die eindeutige Mac-Addresse zu erhalten.\n",
    "3. Dann werden die gemeinsamen MAC-Adressen in beiden Datenmengen durch die Funktion ``intersection()`` auf die beiden RDDs gefunden."
   ]
  },
  {
   "cell_type": "code",
   "execution_count": 11,
   "id": "033579b2-cb33-43f3-992f-024270b52baa",
   "metadata": {
    "tags": [
     "bda1_ex2_a",
     "ex2_a2"
    ]
   },
   "outputs": [
    {
     "name": "stderr",
     "output_type": "stream",
     "text": [
      "[Stage 16:================================================>       (20 + 2) / 23]\r"
     ]
    },
    {
     "name": "stdout",
     "output_type": "stream",
     "text": [
      "Common MAC-Adresse: e8db84c5f33d\n",
      "Common MAC-Adresse: e8db84c5f771\n",
      "Common MAC-Adresse: 10521c0202ab\n",
      "Common MAC-Adresse: 8caab57c3e19\n",
      "Common MAC-Adresse: 3c6105d3abae\n"
     ]
    },
    {
     "name": "stderr",
     "output_type": "stream",
     "text": [
      "                                                                                \r"
     ]
    }
   ],
   "source": [
    "mac_addresses_co2data = rdd_co2data.map(lambda line: line.split(\"\\t\")[1]).filter(lambda line: line != '\"serial_number\"').map(lambda line: line.split(\"_\")[1].strip('\"')).distinct()\n",
    "mac_addresses_co2data_pm = rdd_co2data_pm.map(lambda line: line.split(\"\\t\")[3]).filter(lambda line: line != '\"serial_number\"').map(lambda line: line.split(\"_\")[1].strip('\"')).distinct()\n",
    "\n",
    "# Step 2: Find the common MAC addresses in both data sets\n",
    "common_mac_addresses = mac_addresses_co2data.intersection(mac_addresses_co2data_pm)\n",
    "\n",
    "# Step 3: Print the common MAC addresses\n",
    "for mac_address in common_mac_addresses.collect():\n",
    "    print(\"Common MAC-Adresse:\", mac_address)"
   ]
  },
  {
   "cell_type": "markdown",
   "id": "6119a1d1-2aeb-425d-9492-9814492bd9b0",
   "metadata": {},
   "source": [
    "### Aufgabe 3b: 2. Attribut um auf vorhandene Werte in den Attributen pm* und npm* zu filtern\n",
    "----------------\n",
    "**Antwort**: Attribut ``ps`` kann auf die Werte in pm* und npm* filtern.\n",
    "- **Beispiel 1** : ``ps`` gleich 0.47 und keine null Werte in ``pm*`` und ``npm*``\n",
    "- **Beispiel 2** : ``ps`` ungleich 0.47 und keine null Werte in ``pm*`` und ``npm*``\n",
    "- **Beispiel 3** : ``ps`` gleich 0.47 und null Werte in ``pm*`` und ``npm*`` enthalten\n",
    "> Es werden keine Zeilen gefunden, die diesen Kriterien entsprechen, daher ist die Ausgabe **leer**.\n",
    "- **Beispiel 4** : ``ps`` ungleich 0.47 und null Werte in ``pm*`` und ``npm*`` enthalten"
   ]
  },
  {
   "cell_type": "markdown",
   "id": "db6a2cfd-bff6-42f6-a346-e1ffcc086420",
   "metadata": {},
   "source": [
    "**Beispiel 1** : ``ps`` gleich 0.47 und keine null Werte in ``pm*`` und ``npm*``"
   ]
  },
  {
   "cell_type": "code",
   "execution_count": 12,
   "id": "7574c151-bb2b-4355-bc57-702d0ecdad66",
   "metadata": {
    "tags": []
   },
   "outputs": [
    {
     "name": "stdout",
     "output_type": "stream",
     "text": [
      "['\"1682899199\"', '\"26715\"', '\"1.1.0\"', '\"s_4091514f0284_309574\"', '\"1738\"', '\"21.0\"', '\"55.0\"', '\"1.58\"', '\"1.73\"', '\"1.77\"', '\"1.79\"', '\"10.74\"', '\"12.52\"', '\"12.61\"', '\"12.63\"', '\"12.63\"', '\"0.47\"']\n",
      "['\"1682899194\"', '\"26714\"', '\"1.1.0\"', '\"s_4091514f0284_309574\"', '\"1739\"', '\"21.0\"', '\"55.0\"', '\"1.59\"', '\"1.74\"', '\"1.78\"', '\"1.8\"', '\"10.8\"', '\"12.59\"', '\"12.68\"', '\"12.7\"', '\"12.7\"', '\"0.47\"']\n",
      "['\"1682899189\"', '\"26713\"', '\"1.1.0\"', '\"s_4091514f0284_309574\"', '\"1736\"', '\"21.0\"', '\"55.0\"', '\"1.69\"', '\"1.84\"', '\"1.88\"', '\"1.91\"', '\"11.45\"', '\"13.34\"', '\"13.44\"', '\"13.45\"', '\"13.46\"', '\"0.47\"']\n",
      "['\"1682899184\"', '\"26712\"', '\"1.1.0\"', '\"s_4091514f0284_309574\"', '\"1735\"', '\"21.0\"', '\"55.0\"', '\"1.77\"', '\"1.93\"', '\"1.98\"', '\"2.0\"', '\"12.04\"', '\"14.03\"', '\"14.13\"', '\"14.15\"', '\"14.15\"', '\"0.47\"']\n",
      "['\"1682899178\"', '\"26711\"', '\"1.1.0\"', '\"s_4091514f0284_309574\"', '\"1735\"', '\"21.0\"', '\"55.0\"', '\"1.78\"', '\"1.94\"', '\"1.98\"', '\"2.01\"', '\"12.07\"', '\"14.07\"', '\"14.17\"', '\"14.19\"', '\"14.19\"', '\"0.47\"']\n",
      "['\"1682899173\"', '\"26710\"', '\"1.1.0\"', '\"s_4091514f0284_309574\"', '\"1737\"', '\"21.0\"', '\"55.0\"', '\"1.7\"', '\"1.85\"', '\"1.9\"', '\"1.92\"', '\"11.56\"', '\"13.47\"', '\"13.56\"', '\"13.58\"', '\"13.58\"', '\"0.47\"']\n",
      "['\"1682899168\"', '\"26709\"', '\"1.1.0\"', '\"s_4091514f0284_309574\"', '\"1738\"', '\"21.0\"', '\"55.0\"', '\"1.51\"', '\"1.65\"', '\"1.68\"', '\"1.7\"', '\"10.3\"', '\"11.99\"', '\"12.07\"', '\"12.09\"', '\"12.09\"', '\"0.47\"']\n",
      "['\"1682899163\"', '\"26708\"', '\"1.1.0\"', '\"s_4091514f0284_309574\"', '\"1742\"', '\"21.0\"', '\"55.0\"', '\"1.42\"', '\"1.54\"', '\"1.58\"', '\"1.59\"', '\"9.65\"', '\"11.23\"', '\"11.31\"', '\"11.32\"', '\"11.33\"', '\"0.47\"']\n",
      "['\"1682899158\"', '\"26707\"', '\"1.1.0\"', '\"s_4091514f0284_309574\"', '\"1741\"', '\"21.0\"', '\"55.0\"', '\"1.48\"', '\"1.61\"', '\"1.65\"', '\"1.67\"', '\"10.1\"', '\"11.76\"', '\"11.84\"', '\"11.85\"', '\"11.86\"', '\"0.47\"']\n",
      "['\"1682899153\"', '\"26706\"', '\"1.1.0\"', '\"s_4091514f0284_309574\"', '\"1745\"', '\"21.0\"', '\"55.0\"', '\"1.5\"', '\"1.63\"', '\"1.67\"', '\"1.69\"', '\"10.21\"', '\"11.89\"', '\"11.98\"', '\"11.99\"', '\"11.99\"', '\"0.47\"']\n"
     ]
    }
   ],
   "source": [
    "# Define the filter condition\n",
    "data_pm_rdd = rdd_co2data_pm.filter(lambda line: line.split(\"\\t\")[16] == '\"0.47\"' and '\"null\"' not in line)\n",
    "\n",
    "for line in data_pm_rdd.take(10):\n",
    "    data = line.split(\"\\t\")\n",
    "    print(data)"
   ]
  },
  {
   "cell_type": "markdown",
   "id": "6ac0c427-bba1-4ff9-a3f4-00fc4736dd4c",
   "metadata": {},
   "source": [
    "**Beispiel 2** : ``ps`` ungleich 0.47 und keine null Werte in ``pm*`` und ``npm*``"
   ]
  },
  {
   "cell_type": "code",
   "execution_count": 13,
   "id": "0d56b3f2-4328-4ca4-9332-2044ae9d2f4a",
   "metadata": {},
   "outputs": [
    {
     "name": "stdout",
     "output_type": "stream",
     "text": [
      "['\"1682899199\"', '\"35305\"', '\"1.1.0\"', '\"s_ac0bfbd6547d_597369\"', '\"474\"', '\"23.0\"', '\"34.0\"', '\"2.12\"', '\"2.24\"', '\"2.24\"', '\"2.24\"', '\"14.56\"', '\"16.86\"', '\"16.92\"', '\"16.93\"', '\"16.93\"', '\"0.41\"']\n",
      "['\"1682899193\"', '\"35304\"', '\"1.1.0\"', '\"s_ac0bfbd6547d_597369\"', '\"474\"', '\"23.0\"', '\"34.0\"', '\"2.15\"', '\"2.28\"', '\"2.28\"', '\"2.28\"', '\"14.78\"', '\"17.11\"', '\"17.18\"', '\"17.18\"', '\"17.19\"', '\"0.41\"']\n",
      "['\"1682899188\"', '\"35303\"', '\"1.1.0\"', '\"s_ac0bfbd6547d_597369\"', '\"475\"', '\"23.0\"', '\"34.0\"', '\"2.1\"', '\"2.22\"', '\"2.22\"', '\"2.22\"', '\"14.45\"', '\"16.73\"', '\"16.79\"', '\"16.79\"', '\"16.8\"', '\"0.41\"']\n",
      "['\"1682899182\"', '\"35302\"', '\"1.1.0\"', '\"s_ac0bfbd6547d_597369\"', '\"474\"', '\"23.0\"', '\"34.0\"', '\"2.01\"', '\"2.12\"', '\"2.12\"', '\"2.12\"', '\"13.78\"', '\"15.95\"', '\"16.01\"', '\"16.01\"', '\"16.02\"', '\"0.41\"']\n",
      "['\"1682899177\"', '\"35301\"', '\"1.1.0\"', '\"s_ac0bfbd6547d_597369\"', '\"474\"', '\"23.0\"', '\"34.0\"', '\"1.93\"', '\"2.04\"', '\"2.04\"', '\"2.04\"', '\"13.26\"', '\"15.35\"', '\"15.41\"', '\"15.41\"', '\"15.42\"', '\"0.41\"']\n",
      "['\"1682899172\"', '\"35300\"', '\"1.1.0\"', '\"s_ac0bfbd6547d_597369\"', '\"474\"', '\"23.0\"', '\"34.0\"', '\"1.88\"', '\"1.98\"', '\"1.98\"', '\"1.98\"', '\"12.89\"', '\"14.92\"', '\"14.97\"', '\"14.98\"', '\"14.98\"', '\"0.41\"']\n",
      "['\"1682899167\"', '\"35299\"', '\"1.1.0\"', '\"s_ac0bfbd6547d_597369\"', '\"474\"', '\"23.0\"', '\"34.0\"', '\"1.78\"', '\"1.88\"', '\"1.88\"', '\"1.88\"', '\"12.2\"', '\"14.12\"', '\"14.17\"', '\"14.18\"', '\"14.18\"', '\"0.41\"']\n",
      "['\"1682899161\"', '\"35298\"', '\"1.1.0\"', '\"s_ac0bfbd6547d_597369\"', '\"474\"', '\"23.0\"', '\"34.0\"', '\"1.69\"', '\"1.79\"', '\"1.79\"', '\"1.79\"', '\"11.62\"', '\"13.45\"', '\"13.5\"', '\"13.51\"', '\"13.51\"', '\"0.42\"']\n",
      "['\"1682899155\"', '\"35297\"', '\"1.1.0\"', '\"s_ac0bfbd6547d_597369\"', '\"474\"', '\"23.0\"', '\"34.0\"', '\"1.84\"', '\"1.94\"', '\"1.94\"', '\"1.94\"', '\"12.61\"', '\"14.61\"', '\"14.66\"', '\"14.66\"', '\"14.67\"', '\"0.41\"']\n",
      "['\"1682899150\"', '\"35296\"', '\"1.1.0\"', '\"s_ac0bfbd6547d_597369\"', '\"474\"', '\"23.0\"', '\"34.0\"', '\"2.08\"', '\"2.2\"', '\"2.2\"', '\"2.2\"', '\"14.27\"', '\"16.53\"', '\"16.59\"', '\"16.59\"', '\"16.6\"', '\"0.41\"']\n"
     ]
    }
   ],
   "source": [
    "# Define the filter condition\n",
    "data_pm_rdd = rdd_co2data_pm.filter(lambda line: line.split(\"\\t\")[16] != '\"0.47\"' and '\"null\"' not in line)\n",
    "\n",
    "for line in data_pm_rdd.take(10):\n",
    "    data = line.split(\"\\t\")\n",
    "    print(data)"
   ]
  },
  {
   "cell_type": "markdown",
   "id": "63fe1b1c-cca4-4cc1-8ec5-120f9cb79d28",
   "metadata": {},
   "source": [
    "**Beispiel 3** : ``ps`` gleich 0.47 und null Werte in ``pm*`` und ``npm*`` enthalten"
   ]
  },
  {
   "cell_type": "code",
   "execution_count": 14,
   "id": "3b37ed11-5bc9-4cb1-943e-74170514b0cf",
   "metadata": {},
   "outputs": [
    {
     "name": "stderr",
     "output_type": "stream",
     "text": [
      "                                                                                \r"
     ]
    }
   ],
   "source": [
    "# Define the filter condition\n",
    "data_pm_rdd = rdd_co2data_pm.filter(lambda line: line.split(\"\\t\")[16] == '\"0.47\"' and '\"null\"' in line)\n",
    "\n",
    "for line in data_pm_rdd.take(10):\n",
    "    data = line.split(\"\\t\")\n",
    "    print(data)"
   ]
  },
  {
   "cell_type": "markdown",
   "id": "240af592-5fc5-4de3-b2a9-a91ec3ec2d72",
   "metadata": {},
   "source": [
    "**Beispiel 4** : ``ps`` ungleich 0.47 und null Werte in ``pm*`` und ``npm*`` enthalten"
   ]
  },
  {
   "cell_type": "code",
   "execution_count": 15,
   "id": "60ecd941-b72c-42b3-952f-9e146c6faa6f",
   "metadata": {},
   "outputs": [
    {
     "name": "stdout",
     "output_type": "stream",
     "text": [
      "['\"null\"', '\"411\"', '\"0.9.8\"', '\"s_e8db84c5f33d_281913\"', '\"731\"', '\"18.0\"', '\"51.0\"', '\"null\"', '\"null\"', '\"null\"', '\"null\"', '\"null\"', '\"null\"', '\"null\"', '\"null\"', '\"null\"', '\"null\"']\n",
      "['\"null\"', '\"1869\"', '\"0.9.8\"', '\"s_e8db84c5f33d_281913\"', '\"819\"', '\"17.0\"', '\"46.0\"', '\"null\"', '\"null\"', '\"null\"', '\"null\"', '\"null\"', '\"null\"', '\"null\"', '\"null\"', '\"null\"', '\"null\"']\n",
      "['\"null\"', '\"315\"', '\"0.9.8\"', '\"s_e8db84c5f33d_281913\"', '\"1912\"', '\"18.0\"', '\"48.0\"', '\"null\"', '\"null\"', '\"null\"', '\"null\"', '\"null\"', '\"null\"', '\"null\"', '\"null\"', '\"null\"', '\"null\"']\n",
      "['\"null\"', '\"6\"', '\"0.9.8\"', '\"s_e8db84c5f771_300390\"', '\"2860\"', '\"19.0\"', '\"52.0\"', '\"null\"', '\"null\"', '\"null\"', '\"null\"', '\"null\"', '\"null\"', '\"null\"', '\"null\"', '\"null\"', '\"null\"']\n",
      "['\"null\"', '\"913\"', '\"0.9.8\"', '\"s_8caab57c3e19_282028\"', '\"788\"', '\"20.0\"', '\"40.0\"', '\"null\"', '\"null\"', '\"null\"', '\"null\"', '\"null\"', '\"null\"', '\"null\"', '\"null\"', '\"null\"', '\"null\"']\n",
      "['\"null\"', '\"1397\"', '\"0.9.8\"', '\"s_e8db84c5f771_300390\"', '\"431\"', '\"18.0\"', '\"41.0\"', '\"null\"', '\"null\"', '\"null\"', '\"null\"', '\"null\"', '\"null\"', '\"null\"', '\"null\"', '\"null\"', '\"null\"']\n",
      "['\"null\"', '\"15\"', '\"0.9.8\"', '\"s_e8db84c5f771_300390\"', '\"763\"', '\"18.0\"', '\"48.0\"', '\"null\"', '\"null\"', '\"null\"', '\"null\"', '\"null\"', '\"null\"', '\"null\"', '\"null\"', '\"null\"', '\"null\"']\n",
      "['\"null\"', '\"893\"', '\"0.9.8\"', '\"s_8caab57c3e19_282028\"', '\"605\"', '\"21.0\"', '\"39.0\"', '\"null\"', '\"null\"', '\"null\"', '\"null\"', '\"null\"', '\"null\"', '\"null\"', '\"null\"', '\"null\"', '\"null\"']\n",
      "['\"null\"', '\"2244\"', '\"0.9.8\"', '\"s_e8db84c5f33d_281913\"', '\"777\"', '\"17.0\"', '\"46.0\"', '\"null\"', '\"null\"', '\"null\"', '\"null\"', '\"null\"', '\"null\"', '\"null\"', '\"null\"', '\"null\"', '\"null\"']\n",
      "['\"null\"', '\"88\"', '\"0.9.8\"', '\"s_e8db84c5f771_300390\"', '\"2658\"', '\"19.0\"', '\"52.0\"', '\"null\"', '\"null\"', '\"null\"', '\"null\"', '\"null\"', '\"null\"', '\"null\"', '\"null\"', '\"null\"', '\"null\"']\n"
     ]
    }
   ],
   "source": [
    "# Define the filter condition\n",
    "data_pm_rdd = rdd_co2data_pm.filter(lambda line: line.split(\"\\t\")[16] != '\"0.47\"' and '\"null\"' in line)\n",
    "\n",
    "for line in data_pm_rdd.take(10):\n",
    "    data = line.split(\"\\t\")\n",
    "    print(data)"
   ]
  },
  {
   "cell_type": "markdown",
   "id": "6a898aa5-5bd9-461a-a715-e9c3fe826acd",
   "metadata": {},
   "source": [
    "### Aufgabe 3b: 3. \"fehlerhafte\" CO2-Messungen\n",
    "------\n",
    "1. Filtern der Daten, um nur Zeilen mit \"null\" in der Spalte \"co2_ppm\" zu erhalten.\n",
    "2. Zählen der Anzahl von fehlerhaften Messungen mit ``.count()``\n",
    "3. Die Anzahl von fehlerhaften Messungen der beiden Datenmengen wird ausgegeben."
   ]
  },
  {
   "cell_type": "code",
   "execution_count": 16,
   "id": "0e01c58f-7f79-42a3-be81-b7d92791de5b",
   "metadata": {},
   "outputs": [
    {
     "name": "stderr",
     "output_type": "stream",
     "text": [
      "                                                                                \r"
     ]
    },
    {
     "name": "stdout",
     "output_type": "stream",
     "text": [
      "Anzahl der fehlerhaften CO2-Messungen aus co2data.tsv: 19\n"
     ]
    },
    {
     "name": "stderr",
     "output_type": "stream",
     "text": [
      "[Stage 25:====================================================>   (14 + 1) / 15]\r"
     ]
    },
    {
     "name": "stdout",
     "output_type": "stream",
     "text": [
      "Anzahl der fehlerhaften CO2-Messungen aus co2data_pm.tsv: 9\n"
     ]
    },
    {
     "name": "stderr",
     "output_type": "stream",
     "text": [
      "                                                                                \r"
     ]
    }
   ],
   "source": [
    "faulty_data1 = rdd_co2data.filter(lambda line: line.split(\"\\t\")[3] == '\"null\"')\n",
    "count_faulty_data1 = faulty_data1.count()\n",
    "print(\"Anzahl der fehlerhaften CO2-Messungen aus co2data.tsv:\", count_faulty_data1)\n",
    "\n",
    "faulty_data2 = rdd_co2data_pm.filter(lambda line: line.split(\"\\t\")[4] == '\"null\"')\n",
    "count_faulty_data2 = faulty_data2.count()\n",
    "print(\"Anzahl der fehlerhaften CO2-Messungen aus co2data_pm.tsv:\", count_faulty_data2)"
   ]
  },
  {
   "cell_type": "code",
   "execution_count": 17,
   "id": "e499f787-05a8-49ab-9b7c-95302e4afaa5",
   "metadata": {},
   "outputs": [
    {
     "name": "stdout",
     "output_type": "stream",
     "text": [
      "Spark Context stopped\n"
     ]
    }
   ],
   "source": [
    "stop_sc1()  # always exit your spark context after work!"
   ]
  },
  {
   "cell_type": "markdown",
   "id": "2b7d7d8a-b8f7-41f8-b083-21d0da9f79ad",
   "metadata": {
    "tags": []
   },
   "source": [
    "## Nützliche Links\n",
    "* https://spark.apache.org/docs/latest/rdd-programming-guide.html\n",
    "* https://spark.apache.org/docs/latest/api/python/reference/pyspark.html#rdd-apis\n",
    "* https://spark.apache.org/examples.html"
   ]
  }
 ],
 "metadata": {
  "kernelspec": {
   "display_name": "Python 3 (ipykernel)",
   "language": "python",
   "name": "python3"
  },
  "language_info": {
   "codemirror_mode": {
    "name": "ipython",
    "version": 3
   },
   "file_extension": ".py",
   "mimetype": "text/x-python",
   "name": "python",
   "nbconvert_exporter": "python",
   "pygments_lexer": "ipython3",
   "version": "3.9.6"
  }
 },
 "nbformat": 4,
 "nbformat_minor": 5
}
