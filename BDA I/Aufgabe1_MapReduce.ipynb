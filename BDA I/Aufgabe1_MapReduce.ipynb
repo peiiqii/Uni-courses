{
 "cells": [
  {
   "cell_type": "markdown",
   "id": "07983760-4718-4cd5-94e1-9304f5c45989",
   "metadata": {
    "tags": []
   },
   "source": [
    "# Big Data Analytics I Praktikum\n",
    "---------"
   ]
  },
  {
   "cell_type": "markdown",
   "id": "4daf492e-5812-453e-b0dc-ad480b760f43",
   "metadata": {},
   "source": [
    "### Aufgabe 1: \n",
    "Ein Programm, der einen **Zahlzähler als Map-Reduce** mittels der entsprechenden Python-Funktionen implementiert. <br>\n",
    "Das Programm liest eine lokale Textdatei **P.csv** ein und gibt die Häufigkeit der einzelnen Zahlen tabellarisch aus. \n",
    "--------------"
   ]
  },
  {
   "cell_type": "markdown",
   "id": "f1c90fe4-a68e-4497-8cc8-2a56f602e305",
   "metadata": {},
   "source": [
    "Als Erstes werden alle benötigten Bibliotheken importiert:\n",
    "- ``csv`` - Umgang mit csv-Dateien\n",
    "- ``functools`` - für die reduce-Funktion\n",
    "- ``pyplot`` - Darstellung des Histogramms\n",
    "- ``figure`` - das Aussehen des Histogramms einstellen"
   ]
  },
  {
   "cell_type": "code",
   "execution_count": 1,
   "id": "a8f89026-6452-41ea-8eee-1df50c9846d5",
   "metadata": {},
   "outputs": [],
   "source": [
    "import csv\n",
    "import functools\n",
    "import matplotlib.pyplot as plt\n",
    "from matplotlib.pyplot import figure"
   ]
  },
  {
   "cell_type": "markdown",
   "id": "868b1f60-b0aa-447e-b3ae-361c96f2a11f",
   "metadata": {},
   "source": [
    "Funktionen:\n",
    "1. ``freq`` - nimmt als Parameter jedes einzelne Array-Element aus 'numbers' und als key in 'frequency' gespeichert mit value = 1 \n",
    "2. ``reducer`` -  vergleicht die beiden Dictionary und summiert die Werte der Anzahl der Vorkommen für jeden Schlüssel\n",
    "3. ``sort`` - nimmt ein Dictionary als Parameter und speichert die Schlüssel-Werte-Paare des Dictionary in einem neuen 'result'-Dictionary mit sortierten Schlüsselwerten"
   ]
  },
  {
   "cell_type": "code",
   "execution_count": 2,
   "id": "09050439-ac55-40cf-9d16-5755a0059a52",
   "metadata": {
    "tags": []
   },
   "outputs": [],
   "source": [
    "def freq(num):\n",
    "    frequency = {}\n",
    "    num = int(num)\n",
    "    frequency[num] = 1\n",
    "    return frequency\n",
    "\n",
    "def reducer(list, newlist):\n",
    "    for key, value in list.items():\n",
    "        if key in newlist: \n",
    "            newlist[key] += value\n",
    "        else:\n",
    "            newlist[key] = value\n",
    "    return newlist\n",
    "\n",
    "def sort(nums):\n",
    "    result = {}\n",
    "    for k in sorted(nums.keys()):\n",
    "        result[k] = nums[k]\n",
    "    return result"
   ]
  },
  {
   "cell_type": "markdown",
   "id": "5adf5ea4-3263-4197-9c67-6c80af70b19f",
   "metadata": {},
   "source": [
    "Das Programm verwendet ``open``, um die CSV-Datei zu öffnen und ihren Inhalt in ein Array ``numbers`` von den einzelnen Daten zu lesen. <br>\n",
    "Die Liste wird dann mit **map** verarbeitet, wobei ``freq`` auf jedes Element des Array ``numbers`` angewendet wird, um die Häufigkeit jeder vorkommene Zahl auf 1 zu setzen. <br>\n",
    "Dann mit **reduce** und die Funktion ``reducer`` werden die Häufigkeit des Auftretens eines Wertes aufsummiert. <br>\n",
    "Letzlich werden die Werte von klein nach groß mit der Funktion ``sort`` sortiert."
   ]
  },
  {
   "cell_type": "code",
   "execution_count": null,
   "id": "4c36ca9c-c353-4492-b947-ce2783400c77",
   "metadata": {},
   "outputs": [],
   "source": [
    "numbers = []\n",
    "with open(\"P.csv\", newline='') as file:\n",
    "    reader = csv.reader(file, delimiter=';')\n",
    "    for row in reader:\n",
    "        for data in row:\n",
    "            numbers.append(data)\n",
    "\n",
    "answer = list(map(freq, numbers))\n",
    "result = functools.reduce(reducer, answer)\n",
    "sorted_result = sort(result)"
   ]
  },
  {
   "cell_type": "markdown",
   "id": "904dfa18-5b6e-4cf1-a997-01158435c227",
   "metadata": {},
   "source": [
    "Die Daten (Zahl und ihre Häufigkeit) werden in **aufsteigender Reihenfolge** von der kleinsten bis zur größten Zahl tabellarisch ausgegeben."
   ]
  },
  {
   "cell_type": "code",
   "execution_count": null,
   "id": "03f07489-72d0-462b-a698-5865a70aa669",
   "metadata": {
    "tags": []
   },
   "outputs": [],
   "source": [
    "# Print the names of the columns.\n",
    "print(\"{:<10} {:<10}\".format('Zahlen', 'Häufigkeit'))\n",
    " \n",
    "# Print each data item.\n",
    "for key, value in sorted_result.items():\n",
    "    print(\"{:<10} {:<10}\".format(key, value))"
   ]
  },
  {
   "cell_type": "markdown",
   "id": "0e5d2b2a-8e63-4e77-a699-ca9e9c379da0",
   "metadata": {},
   "source": [
    "Die Funktion ``figure`` wird verwendet, um die Größe des angezeigten Histogramms anzupassen. <br>\n",
    "Die X-Achse nimmt die Zahlen als Wert mit der Bezeichnung **\"Zahlen\"** und die y-Achse nimmt die Häufigkeit der Zahlen als Wert mit der Bezeichnung **\"Häufigkeit\"**. <br>\n",
    "Der Titel dieses Histogramms wird als **\"Zahlenhäufigkeiten\"** festgelegt und das Histogramm wird angezeigt."
   ]
  },
  {
   "cell_type": "code",
   "execution_count": null,
   "id": "32a7495c-acc7-4db5-9dd9-86721cbf060e",
   "metadata": {
    "tags": []
   },
   "outputs": [],
   "source": [
    "figure(figsize=(15, 10), dpi=80)\n",
    "x = sorted_result.keys()\n",
    "y = sorted_result.values()\n",
    "plt.bar(x, y)\n",
    "plt.title(\"Zahlenhäufigkeiten\")\n",
    "plt.xlabel(\"Zahlen\")\n",
    "plt.ylabel(\"Häufigkeit\")\n",
    "plt.show()"
   ]
  }
 ],
 "metadata": {
  "kernelspec": {
   "display_name": "Python 3 (ipykernel)",
   "language": "python",
   "name": "python3"
  },
  "language_info": {
   "codemirror_mode": {
    "name": "ipython",
    "version": 3
   },
   "file_extension": ".py",
   "mimetype": "text/x-python",
   "name": "python",
   "nbconvert_exporter": "python",
   "pygments_lexer": "ipython3",
   "version": "3.11.5"
  }
 },
 "nbformat": 4,
 "nbformat_minor": 5
}
